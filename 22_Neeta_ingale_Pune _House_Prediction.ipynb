{
 "cells": [
  {
   "cell_type": "code",
   "execution_count": 1,
   "id": "cbfc0284",
   "metadata": {},
   "outputs": [],
   "source": [
    "# Problem statement : House price prediction using linear algorithm."
   ]
  },
  {
   "cell_type": "code",
   "execution_count": 2,
   "id": "5b15fc2c",
   "metadata": {},
   "outputs": [],
   "source": [
    "import numpy as np\n",
    "import pandas as pd\n",
    "\n",
    "# Visualization\n",
    "import matplotlib.pyplot as plt\n",
    "import seaborn as sns\n",
    "\n",
    "# Feature Selection\n",
    "from statsmodels.stats.outliers_influence import variance_inflation_factor\n",
    "\n",
    "# Model Building\n",
    "from sklearn.model_selection import train_test_split\n",
    "from sklearn.linear_model import LinearRegression\n",
    "\n",
    "# Evaluation Metrics\n",
    "from sklearn.metrics import mean_absolute_error, mean_squared_error, r2_score\n",
    "\n",
    "# To avoid warning\n",
    "import warnings\n",
    "warnings.filterwarnings(\"ignore\")\n",
    "\n",
    "from scipy.stats import zscore"
   ]
  },
  {
   "cell_type": "code",
   "execution_count": 3,
   "id": "62b96f98",
   "metadata": {},
   "outputs": [],
   "source": [
    "# Data Collection:"
   ]
  },
  {
   "cell_type": "code",
   "execution_count": 4,
   "id": "d740484b",
   "metadata": {},
   "outputs": [
    {
     "data": {
      "text/html": [
       "<div>\n",
       "<style scoped>\n",
       "    .dataframe tbody tr th:only-of-type {\n",
       "        vertical-align: middle;\n",
       "    }\n",
       "\n",
       "    .dataframe tbody tr th {\n",
       "        vertical-align: top;\n",
       "    }\n",
       "\n",
       "    .dataframe thead th {\n",
       "        text-align: right;\n",
       "    }\n",
       "</style>\n",
       "<table border=\"1\" class=\"dataframe\">\n",
       "  <thead>\n",
       "    <tr style=\"text-align: right;\">\n",
       "      <th></th>\n",
       "      <th>area_type</th>\n",
       "      <th>availability</th>\n",
       "      <th>size</th>\n",
       "      <th>society</th>\n",
       "      <th>total_sqft</th>\n",
       "      <th>bath</th>\n",
       "      <th>balcony</th>\n",
       "      <th>price</th>\n",
       "      <th>site_location</th>\n",
       "    </tr>\n",
       "  </thead>\n",
       "  <tbody>\n",
       "    <tr>\n",
       "      <th>0</th>\n",
       "      <td>Super built-up  Area</td>\n",
       "      <td>19-Dec</td>\n",
       "      <td>2 BHK</td>\n",
       "      <td>Coomee</td>\n",
       "      <td>1056</td>\n",
       "      <td>2.0</td>\n",
       "      <td>1.0</td>\n",
       "      <td>39.07</td>\n",
       "      <td>Alandi Road</td>\n",
       "    </tr>\n",
       "    <tr>\n",
       "      <th>1</th>\n",
       "      <td>Plot  Area</td>\n",
       "      <td>Ready To Move</td>\n",
       "      <td>4 Bedroom</td>\n",
       "      <td>Theanmp</td>\n",
       "      <td>2600</td>\n",
       "      <td>5.0</td>\n",
       "      <td>3.0</td>\n",
       "      <td>120.00</td>\n",
       "      <td>Ambegaon Budruk</td>\n",
       "    </tr>\n",
       "    <tr>\n",
       "      <th>2</th>\n",
       "      <td>Built-up  Area</td>\n",
       "      <td>Ready To Move</td>\n",
       "      <td>3 BHK</td>\n",
       "      <td>NaN</td>\n",
       "      <td>1440</td>\n",
       "      <td>2.0</td>\n",
       "      <td>3.0</td>\n",
       "      <td>62.00</td>\n",
       "      <td>Anandnagar</td>\n",
       "    </tr>\n",
       "    <tr>\n",
       "      <th>3</th>\n",
       "      <td>Super built-up  Area</td>\n",
       "      <td>Ready To Move</td>\n",
       "      <td>3 BHK</td>\n",
       "      <td>Soiewre</td>\n",
       "      <td>1521</td>\n",
       "      <td>3.0</td>\n",
       "      <td>1.0</td>\n",
       "      <td>95.00</td>\n",
       "      <td>Aundh</td>\n",
       "    </tr>\n",
       "    <tr>\n",
       "      <th>4</th>\n",
       "      <td>Super built-up  Area</td>\n",
       "      <td>Ready To Move</td>\n",
       "      <td>2 BHK</td>\n",
       "      <td>NaN</td>\n",
       "      <td>1200</td>\n",
       "      <td>2.0</td>\n",
       "      <td>1.0</td>\n",
       "      <td>51.00</td>\n",
       "      <td>Aundh Road</td>\n",
       "    </tr>\n",
       "    <tr>\n",
       "      <th>...</th>\n",
       "      <td>...</td>\n",
       "      <td>...</td>\n",
       "      <td>...</td>\n",
       "      <td>...</td>\n",
       "      <td>...</td>\n",
       "      <td>...</td>\n",
       "      <td>...</td>\n",
       "      <td>...</td>\n",
       "      <td>...</td>\n",
       "    </tr>\n",
       "    <tr>\n",
       "      <th>13315</th>\n",
       "      <td>Built-up  Area</td>\n",
       "      <td>Ready To Move</td>\n",
       "      <td>5 Bedroom</td>\n",
       "      <td>ArsiaEx</td>\n",
       "      <td>3453</td>\n",
       "      <td>4.0</td>\n",
       "      <td>0.0</td>\n",
       "      <td>231.00</td>\n",
       "      <td>Pashan</td>\n",
       "    </tr>\n",
       "    <tr>\n",
       "      <th>13316</th>\n",
       "      <td>Super built-up  Area</td>\n",
       "      <td>Ready To Move</td>\n",
       "      <td>4 BHK</td>\n",
       "      <td>NaN</td>\n",
       "      <td>3600</td>\n",
       "      <td>5.0</td>\n",
       "      <td>NaN</td>\n",
       "      <td>400.00</td>\n",
       "      <td>Paud Road</td>\n",
       "    </tr>\n",
       "    <tr>\n",
       "      <th>13317</th>\n",
       "      <td>Built-up  Area</td>\n",
       "      <td>Ready To Move</td>\n",
       "      <td>2 BHK</td>\n",
       "      <td>Mahla T</td>\n",
       "      <td>1141</td>\n",
       "      <td>2.0</td>\n",
       "      <td>1.0</td>\n",
       "      <td>60.00</td>\n",
       "      <td>Pirangut</td>\n",
       "    </tr>\n",
       "    <tr>\n",
       "      <th>13318</th>\n",
       "      <td>Super built-up  Area</td>\n",
       "      <td>18-Jun</td>\n",
       "      <td>4 BHK</td>\n",
       "      <td>SollyCl</td>\n",
       "      <td>4689</td>\n",
       "      <td>4.0</td>\n",
       "      <td>1.0</td>\n",
       "      <td>488.00</td>\n",
       "      <td>Prabhat Road</td>\n",
       "    </tr>\n",
       "    <tr>\n",
       "      <th>13319</th>\n",
       "      <td>Super built-up  Area</td>\n",
       "      <td>Ready To Move</td>\n",
       "      <td>1 BHK</td>\n",
       "      <td>NaN</td>\n",
       "      <td>550</td>\n",
       "      <td>1.0</td>\n",
       "      <td>1.0</td>\n",
       "      <td>17.00</td>\n",
       "      <td>Pune Railway Station</td>\n",
       "    </tr>\n",
       "  </tbody>\n",
       "</table>\n",
       "<p>13320 rows × 9 columns</p>\n",
       "</div>"
      ],
      "text/plain": [
       "                  area_type   availability       size  society total_sqft  \\\n",
       "0      Super built-up  Area         19-Dec      2 BHK  Coomee        1056   \n",
       "1                Plot  Area  Ready To Move  4 Bedroom  Theanmp       2600   \n",
       "2            Built-up  Area  Ready To Move      3 BHK      NaN       1440   \n",
       "3      Super built-up  Area  Ready To Move      3 BHK  Soiewre       1521   \n",
       "4      Super built-up  Area  Ready To Move      2 BHK      NaN       1200   \n",
       "...                     ...            ...        ...      ...        ...   \n",
       "13315        Built-up  Area  Ready To Move  5 Bedroom  ArsiaEx       3453   \n",
       "13316  Super built-up  Area  Ready To Move      4 BHK      NaN       3600   \n",
       "13317        Built-up  Area  Ready To Move      2 BHK  Mahla T       1141   \n",
       "13318  Super built-up  Area         18-Jun      4 BHK  SollyCl       4689   \n",
       "13319  Super built-up  Area  Ready To Move      1 BHK      NaN        550   \n",
       "\n",
       "       bath  balcony   price         site_location  \n",
       "0       2.0      1.0   39.07           Alandi Road  \n",
       "1       5.0      3.0  120.00       Ambegaon Budruk  \n",
       "2       2.0      3.0   62.00            Anandnagar  \n",
       "3       3.0      1.0   95.00                 Aundh  \n",
       "4       2.0      1.0   51.00            Aundh Road  \n",
       "...     ...      ...     ...                   ...  \n",
       "13315   4.0      0.0  231.00                Pashan  \n",
       "13316   5.0      NaN  400.00             Paud Road  \n",
       "13317   2.0      1.0   60.00              Pirangut  \n",
       "13318   4.0      1.0  488.00          Prabhat Road  \n",
       "13319   1.0      1.0   17.00  Pune Railway Station  \n",
       "\n",
       "[13320 rows x 9 columns]"
      ]
     },
     "execution_count": 4,
     "metadata": {},
     "output_type": "execute_result"
    }
   ],
   "source": [
    "df=pd.read_csv(\"Pune_House_Data.csv\")\n",
    "df"
   ]
  },
  {
   "cell_type": "code",
   "execution_count": 7,
   "id": "a60009b5",
   "metadata": {},
   "outputs": [
    {
     "name": "stdout",
     "output_type": "stream",
     "text": [
      "<class 'pandas.core.frame.DataFrame'>\n",
      "RangeIndex: 13320 entries, 0 to 13319\n",
      "Data columns (total 9 columns):\n",
      " #   Column         Non-Null Count  Dtype  \n",
      "---  ------         --------------  -----  \n",
      " 0   area_type      13320 non-null  object \n",
      " 1   availability   13320 non-null  object \n",
      " 2   size           13304 non-null  object \n",
      " 3   society        7818 non-null   object \n",
      " 4   total_sqft     13320 non-null  object \n",
      " 5   bath           13247 non-null  float64\n",
      " 6   balcony        12711 non-null  float64\n",
      " 7   price          13320 non-null  float64\n",
      " 8   site_location  13319 non-null  object \n",
      "dtypes: float64(3), object(6)\n",
      "memory usage: 936.7+ KB\n"
     ]
    }
   ],
   "source": [
    "df.info()"
   ]
  },
  {
   "cell_type": "code",
   "execution_count": 8,
   "id": "e5367ace",
   "metadata": {},
   "outputs": [
    {
     "data": {
      "text/plain": [
       "0         39.07\n",
       "1        120.00\n",
       "2         62.00\n",
       "3         95.00\n",
       "4         51.00\n",
       "          ...  \n",
       "13315    231.00\n",
       "13316    400.00\n",
       "13317     60.00\n",
       "13318    488.00\n",
       "13319     17.00\n",
       "Name: price, Length: 13320, dtype: float64"
      ]
     },
     "execution_count": 8,
     "metadata": {},
     "output_type": "execute_result"
    }
   ],
   "source": [
    "df1=df[\"price\"]\n",
    "df1"
   ]
  },
  {
   "cell_type": "code",
   "execution_count": 9,
   "id": "a438be13",
   "metadata": {},
   "outputs": [],
   "source": [
    "#Exploratory Data Analysis:"
   ]
  },
  {
   "cell_type": "markdown",
   "id": "04ddce87",
   "metadata": {},
   "source": [
    "# 1.area_type"
   ]
  },
  {
   "cell_type": "code",
   "execution_count": 10,
   "id": "67d7541b",
   "metadata": {},
   "outputs": [
    {
     "data": {
      "text/plain": [
       "0"
      ]
     },
     "execution_count": 10,
     "metadata": {},
     "output_type": "execute_result"
    }
   ],
   "source": [
    "df[\"area_type\"].isna().sum()"
   ]
  },
  {
   "cell_type": "code",
   "execution_count": 11,
   "id": "25786284",
   "metadata": {},
   "outputs": [
    {
     "data": {
      "text/plain": [
       "{'Super built-up  Area': 8790,\n",
       " 'Built-up  Area': 2418,\n",
       " 'Plot  Area': 2025,\n",
       " 'Carpet  Area': 87}"
      ]
     },
     "execution_count": 11,
     "metadata": {},
     "output_type": "execute_result"
    }
   ],
   "source": [
    "df[\"area_type\"].value_counts().to_dict()"
   ]
  },
  {
   "cell_type": "code",
   "execution_count": 12,
   "id": "92c1f6d7",
   "metadata": {},
   "outputs": [],
   "source": [
    "df[\"area_type\"].replace({'Super built-up  Area':0,\n",
    " 'Built-up  Area':1,\n",
    " 'Plot  Area': 2,\n",
    " 'Carpet  Area':3},inplace=True)"
   ]
  },
  {
   "cell_type": "code",
   "execution_count": 13,
   "id": "e3584d9b",
   "metadata": {},
   "outputs": [
    {
     "data": {
      "text/plain": [
       "dtype('int64')"
      ]
     },
     "execution_count": 13,
     "metadata": {},
     "output_type": "execute_result"
    }
   ],
   "source": [
    "df[\"area_type\"].dtype"
   ]
  },
  {
   "cell_type": "markdown",
   "id": "3bf7ea9e",
   "metadata": {},
   "source": [
    "# 2.availability"
   ]
  },
  {
   "cell_type": "code",
   "execution_count": 14,
   "id": "8ac8e1c0",
   "metadata": {},
   "outputs": [
    {
     "data": {
      "text/plain": [
       "Ready To Move    10581\n",
       "18-Dec             307\n",
       "18-May             295\n",
       "18-Apr             271\n",
       "18-Aug             200\n",
       "                 ...  \n",
       "15-Aug               1\n",
       "17-Jan               1\n",
       "16-Nov               1\n",
       "16-Jan               1\n",
       "14-Jul               1\n",
       "Name: availability, Length: 81, dtype: int64"
      ]
     },
     "execution_count": 14,
     "metadata": {},
     "output_type": "execute_result"
    }
   ],
   "source": [
    "df[\"availability\"].value_counts()"
   ]
  },
  {
   "cell_type": "code",
   "execution_count": 15,
   "id": "3771eedc",
   "metadata": {},
   "outputs": [
    {
     "data": {
      "text/plain": [
       "0"
      ]
     },
     "execution_count": 15,
     "metadata": {},
     "output_type": "execute_result"
    }
   ],
   "source": [
    "df[\"availability\"].isna().sum()"
   ]
  },
  {
   "cell_type": "code",
   "execution_count": 16,
   "id": "3788b4a3",
   "metadata": {},
   "outputs": [
    {
     "data": {
      "text/plain": [
       "dtype('O')"
      ]
     },
     "execution_count": 16,
     "metadata": {},
     "output_type": "execute_result"
    }
   ],
   "source": [
    "df[\"availability\"].dtype"
   ]
  },
  {
   "cell_type": "code",
   "execution_count": 17,
   "id": "6c876c89",
   "metadata": {},
   "outputs": [
    {
     "data": {
      "text/plain": [
       "{'14-Jul': 1,\n",
       " '15-Jun': 1,\n",
       " '16-Jul': 1,\n",
       " '14-Nov': 1,\n",
       " '15-Dec': 1,\n",
       " '16-Jan': 1,\n",
       " '15-Aug': 1,\n",
       " '17-Jan': 1,\n",
       " '16-Nov': 1,\n",
       " '16-Oct': 1,\n",
       " '20-Feb': 2,\n",
       " '15-Nov': 2,\n",
       " '17-Feb': 2,\n",
       " '15-Oct': 2,\n",
       " '16-Sep': 2,\n",
       " '22-Nov': 2,\n",
       " '20-Mar': 2,\n",
       " '16-Mar': 3,\n",
       " '21-Nov': 3,\n",
       " '19-Feb': 3,\n",
       " '22-Mar': 3,\n",
       " '16-Dec': 4,\n",
       " '20-May': 4,\n",
       " '20-Apr': 4,\n",
       " '20-Nov': 4,\n",
       " '17-Mar': 5,\n",
       " '20-Jul': 5,\n",
       " '21-Aug': 5,\n",
       " '21-Feb': 6,\n",
       " '20-Sep': 6,\n",
       " '21-Oct': 6,\n",
       " '21-Sep': 6,\n",
       " '22-Jan': 6,\n",
       " '17-Apr': 7,\n",
       " '19-Nov': 7,\n",
       " '20-Oct': 7,\n",
       " '17-May': 8,\n",
       " '21-Jul': 8,\n",
       " '17-Aug': 9,\n",
       " '19-May': 9,\n",
       " '22-May': 10,\n",
       " '20-Jun': 11,\n",
       " '17-Sep': 11,\n",
       " '22-Dec': 11,\n",
       " '21-Jan': 12,\n",
       " '17-Nov': 12,\n",
       " '17-Jul': 12,\n",
       " '21-May': 12,\n",
       " '17-Jun': 13,\n",
       " '21-Mar': 14,\n",
       " '19-Oct': 15,\n",
       " '19-Apr': 16,\n",
       " 'Immediate Possession': 16,\n",
       " '20-Aug': 16,\n",
       " '21-Jun': 17,\n",
       " '19-Aug': 18,\n",
       " '22-Jun': 19,\n",
       " '19-Sep': 21,\n",
       " '17-Oct': 21,\n",
       " '20-Jan': 24,\n",
       " '17-Dec': 29,\n",
       " '19-Jul': 36,\n",
       " '18-Oct': 39,\n",
       " '19-Jan': 39,\n",
       " '19-Jun': 40,\n",
       " '18-Sep': 41,\n",
       " '18-Jan': 43,\n",
       " '18-Nov': 47,\n",
       " '18-Feb': 62,\n",
       " '19-Mar': 88,\n",
       " '21-Dec': 93,\n",
       " '20-Dec': 98,\n",
       " '18-Jun': 99,\n",
       " '18-Mar': 131,\n",
       " '18-Jul': 143,\n",
       " '19-Dec': 185,\n",
       " '18-Aug': 200,\n",
       " '18-Apr': 271,\n",
       " '18-May': 295,\n",
       " '18-Dec': 307,\n",
       " 'Ready To Move': 10581}"
      ]
     },
     "execution_count": 17,
     "metadata": {},
     "output_type": "execute_result"
    }
   ],
   "source": [
    "x=df[\"availability\"].value_counts()\n",
    "x.sort_values(ascending=True).to_dict()"
   ]
  },
  {
   "cell_type": "code",
   "execution_count": 18,
   "id": "8bdef603",
   "metadata": {},
   "outputs": [],
   "source": [
    "df[\"availability\"].replace({'Immediate Possession':'Ready To Move'},inplace=True)"
   ]
  },
  {
   "cell_type": "code",
   "execution_count": 19,
   "id": "83479244",
   "metadata": {},
   "outputs": [],
   "source": [
    "df[\"availability\"].replace({'Ready To Move':'1-Jan'},inplace=True)"
   ]
  },
  {
   "cell_type": "code",
   "execution_count": 20,
   "id": "e21b5134",
   "metadata": {},
   "outputs": [
    {
     "data": {
      "text/plain": [
       "{'1-Jan': 10597,\n",
       " '18-Dec': 307,\n",
       " '18-May': 295,\n",
       " '18-Apr': 271,\n",
       " '18-Aug': 200,\n",
       " '19-Dec': 185,\n",
       " '18-Jul': 143,\n",
       " '18-Mar': 131,\n",
       " '18-Jun': 99,\n",
       " '20-Dec': 98,\n",
       " '21-Dec': 93,\n",
       " '19-Mar': 88,\n",
       " '18-Feb': 62,\n",
       " '18-Nov': 47,\n",
       " '18-Jan': 43,\n",
       " '18-Sep': 41,\n",
       " '19-Jun': 40,\n",
       " '18-Oct': 39,\n",
       " '19-Jan': 39,\n",
       " '19-Jul': 36,\n",
       " '17-Dec': 29,\n",
       " '20-Jan': 24,\n",
       " '17-Oct': 21,\n",
       " '19-Sep': 21,\n",
       " '22-Jun': 19,\n",
       " '19-Aug': 18,\n",
       " '21-Jun': 17,\n",
       " '19-Apr': 16,\n",
       " '20-Aug': 16,\n",
       " '19-Oct': 15,\n",
       " '21-Mar': 14,\n",
       " '17-Jun': 13,\n",
       " '21-May': 12,\n",
       " '17-Jul': 12,\n",
       " '17-Nov': 12,\n",
       " '21-Jan': 12,\n",
       " '20-Jun': 11,\n",
       " '17-Sep': 11,\n",
       " '22-Dec': 11,\n",
       " '22-May': 10,\n",
       " '17-Aug': 9,\n",
       " '19-May': 9,\n",
       " '21-Jul': 8,\n",
       " '17-May': 8,\n",
       " '19-Nov': 7,\n",
       " '17-Apr': 7,\n",
       " '20-Oct': 7,\n",
       " '21-Feb': 6,\n",
       " '21-Oct': 6,\n",
       " '22-Jan': 6,\n",
       " '20-Sep': 6,\n",
       " '21-Sep': 6,\n",
       " '20-Jul': 5,\n",
       " '17-Mar': 5,\n",
       " '21-Aug': 5,\n",
       " '20-May': 4,\n",
       " '16-Dec': 4,\n",
       " '20-Nov': 4,\n",
       " '20-Apr': 4,\n",
       " '22-Mar': 3,\n",
       " '21-Nov': 3,\n",
       " '16-Mar': 3,\n",
       " '19-Feb': 3,\n",
       " '22-Nov': 2,\n",
       " '15-Oct': 2,\n",
       " '16-Sep': 2,\n",
       " '15-Nov': 2,\n",
       " '17-Feb': 2,\n",
       " '20-Feb': 2,\n",
       " '20-Mar': 2,\n",
       " '15-Jun': 1,\n",
       " '16-Jul': 1,\n",
       " '14-Nov': 1,\n",
       " '15-Dec': 1,\n",
       " '16-Oct': 1,\n",
       " '15-Aug': 1,\n",
       " '17-Jan': 1,\n",
       " '16-Nov': 1,\n",
       " '16-Jan': 1,\n",
       " '14-Jul': 1}"
      ]
     },
     "execution_count": 20,
     "metadata": {},
     "output_type": "execute_result"
    }
   ],
   "source": [
    "df[\"availability\"].value_counts().to_dict()"
   ]
  },
  {
   "cell_type": "code",
   "execution_count": 21,
   "id": "7c830267",
   "metadata": {},
   "outputs": [],
   "source": [
    "df[\"availability\"].replace({'1-Jan':0,\n",
    " '18-Dec':12,\n",
    " '18-May':5,\n",
    " '18-Apr':4,\n",
    " '18-Aug':8,\n",
    " '19-Dec':12,\n",
    " '18-Jul':7,\n",
    " '18-Mar':3,\n",
    " '18-Jun':6,\n",
    " '20-Dec':12,\n",
    " '21-Dec':12,\n",
    " '19-Mar':3,\n",
    " '18-Feb':2,\n",
    " '18-Nov':11,\n",
    " '18-Jan':1,\n",
    " '18-Sep':9,\n",
    " '19-Jun':6,\n",
    " '18-Oct':12,\n",
    " '19-Jan':1,\n",
    " '19-Jul':7,\n",
    " '17-Dec':12,\n",
    " '20-Jan':1,\n",
    " '17-Oct':10,\n",
    " '19-Sep':9,\n",
    " '22-Jun':6,\n",
    " '19-Aug':8,\n",
    " '21-Jun':6,\n",
    " '19-Apr':4,\n",
    " '20-Aug':8,\n",
    " '19-Oct':10,\n",
    " '21-Mar':3,\n",
    " '17-Jun':6,\n",
    " '21-May':5,\n",
    " '17-Jul':7,\n",
    " '17-Nov':11,\n",
    " '21-Jan':1,\n",
    " '20-Jun':6,\n",
    " '17-Sep':9,\n",
    " '22-Dec':12,\n",
    " '22-May':5,\n",
    " '17-Aug':8,\n",
    " '19-May':5,\n",
    " '21-Jul':7,\n",
    " '17-May':5,\n",
    " '19-Nov':11,\n",
    " '17-Apr':4,\n",
    " '20-Oct':10,\n",
    " '21-Feb':2,\n",
    " '21-Oct':10,\n",
    " '22-Jan':1,\n",
    " '20-Sep':9,\n",
    " '21-Sep':9,\n",
    " '20-Jul':7,\n",
    " '17-Mar':3,\n",
    " '21-Aug':8,\n",
    " '20-May':5,\n",
    " '16-Dec':12,\n",
    " '20-Nov':11,\n",
    " '20-Apr':4,\n",
    " '22-Mar':3,\n",
    " '21-Nov':11,\n",
    " '16-Mar':3,\n",
    " '19-Feb':2,\n",
    " '22-Nov':12,\n",
    " '15-Oct':10,\n",
    " '16-Sep':9,\n",
    " '15-Nov':12,\n",
    " '17-Feb':2,\n",
    " '20-Feb':2,\n",
    " '20-Mar':3,\n",
    " '15-Jun':6,\n",
    " '16-Jul':7,\n",
    " '14-Nov':11,\n",
    " '15-Dec':12,\n",
    " '16-Oct':10,\n",
    " '15-Aug':8,\n",
    " '17-Jan':1,\n",
    " '16-Nov':11,\n",
    " '16-Jan':1,\n",
    " '14-Jul':7},inplace=True)"
   ]
  },
  {
   "cell_type": "code",
   "execution_count": 22,
   "id": "595a8286",
   "metadata": {},
   "outputs": [
    {
     "data": {
      "text/plain": [
       "{0: 10597,\n",
       " 12: 771,\n",
       " 5: 338,\n",
       " 4: 298,\n",
       " 8: 249,\n",
       " 3: 246,\n",
       " 7: 206,\n",
       " 6: 200,\n",
       " 1: 126,\n",
       " 9: 87,\n",
       " 2: 75,\n",
       " 11: 75,\n",
       " 10: 52}"
      ]
     },
     "execution_count": 22,
     "metadata": {},
     "output_type": "execute_result"
    }
   ],
   "source": [
    "availability_index=df[\"availability\"].value_counts().to_dict()\n",
    "availability_index"
   ]
  },
  {
   "cell_type": "code",
   "execution_count": 23,
   "id": "bea7a35a",
   "metadata": {},
   "outputs": [
    {
     "data": {
      "text/plain": [
       "dtype('int64')"
      ]
     },
     "execution_count": 23,
     "metadata": {},
     "output_type": "execute_result"
    }
   ],
   "source": [
    "df[\"availability\"].dtype"
   ]
  },
  {
   "cell_type": "markdown",
   "id": "c7903275",
   "metadata": {},
   "source": [
    "# 3.size "
   ]
  },
  {
   "cell_type": "code",
   "execution_count": 24,
   "id": "367a1710",
   "metadata": {},
   "outputs": [
    {
     "data": {
      "text/plain": [
       "16"
      ]
     },
     "execution_count": 24,
     "metadata": {},
     "output_type": "execute_result"
    }
   ],
   "source": [
    "df[\"size\"].isna().sum()"
   ]
  },
  {
   "cell_type": "code",
   "execution_count": 25,
   "id": "c6df3e50",
   "metadata": {},
   "outputs": [
    {
     "data": {
      "text/plain": [
       "dtype('O')"
      ]
     },
     "execution_count": 25,
     "metadata": {},
     "output_type": "execute_result"
    }
   ],
   "source": [
    "df[\"size\"].dtype"
   ]
  },
  {
   "cell_type": "code",
   "execution_count": 26,
   "id": "0cb9b08b",
   "metadata": {},
   "outputs": [
    {
     "data": {
      "text/plain": [
       "2 BHK         5199\n",
       "3 BHK         4310\n",
       "4 Bedroom      826\n",
       "4 BHK          591\n",
       "3 Bedroom      547\n",
       "1 BHK          538\n",
       "2 Bedroom      329\n",
       "5 Bedroom      297\n",
       "6 Bedroom      191\n",
       "1 Bedroom      105\n",
       "8 Bedroom       84\n",
       "7 Bedroom       83\n",
       "5 BHK           59\n",
       "9 Bedroom       46\n",
       "6 BHK           30\n",
       "7 BHK           17\n",
       "1 RK            13\n",
       "10 Bedroom      12\n",
       "9 BHK            8\n",
       "8 BHK            5\n",
       "11 BHK           2\n",
       "11 Bedroom       2\n",
       "10 BHK           2\n",
       "14 BHK           1\n",
       "13 BHK           1\n",
       "12 Bedroom       1\n",
       "27 BHK           1\n",
       "43 Bedroom       1\n",
       "16 BHK           1\n",
       "19 BHK           1\n",
       "18 Bedroom       1\n",
       "Name: size, dtype: int64"
      ]
     },
     "execution_count": 26,
     "metadata": {},
     "output_type": "execute_result"
    }
   ],
   "source": [
    "df[\"size\"].value_counts()"
   ]
  },
  {
   "cell_type": "code",
   "execution_count": 27,
   "id": "d51af505",
   "metadata": {},
   "outputs": [
    {
     "data": {
      "text/plain": [
       "(13320, 9)"
      ]
     },
     "execution_count": 27,
     "metadata": {},
     "output_type": "execute_result"
    }
   ],
   "source": [
    "df.shape"
   ]
  },
  {
   "cell_type": "code",
   "execution_count": 28,
   "id": "3c4ce388",
   "metadata": {},
   "outputs": [],
   "source": [
    "df[\"size\"].fillna(df[\"size\"].mode()[0],inplace=True)"
   ]
  },
  {
   "cell_type": "code",
   "execution_count": 29,
   "id": "a138af10",
   "metadata": {},
   "outputs": [
    {
     "data": {
      "text/plain": [
       "0"
      ]
     },
     "execution_count": 29,
     "metadata": {},
     "output_type": "execute_result"
    }
   ],
   "source": [
    "df[\"size\"].isna().sum()"
   ]
  },
  {
   "cell_type": "markdown",
   "id": "8885e199",
   "metadata": {},
   "source": [
    "# 4.society "
   ]
  },
  {
   "cell_type": "code",
   "execution_count": 30,
   "id": "f0424056",
   "metadata": {},
   "outputs": [
    {
     "data": {
      "text/plain": [
       "5502"
      ]
     },
     "execution_count": 30,
     "metadata": {},
     "output_type": "execute_result"
    }
   ],
   "source": [
    "df[\"society\"].isna().sum()"
   ]
  },
  {
   "cell_type": "code",
   "execution_count": 31,
   "id": "2e032584",
   "metadata": {},
   "outputs": [
    {
     "data": {
      "text/plain": [
       "dtype('O')"
      ]
     },
     "execution_count": 31,
     "metadata": {},
     "output_type": "execute_result"
    }
   ],
   "source": [
    "df[\"society\"].dtype"
   ]
  },
  {
   "cell_type": "code",
   "execution_count": 32,
   "id": "97f0ed3d",
   "metadata": {},
   "outputs": [
    {
     "data": {
      "text/plain": [
       "GrrvaGr    80\n",
       "PrarePa    76\n",
       "Sryalan    59\n",
       "Prtates    59\n",
       "GMown E    56\n",
       "           ..\n",
       "Amionce     1\n",
       "JaghtDe     1\n",
       "Jauraht     1\n",
       "Brity U     1\n",
       "RSntsAp     1\n",
       "Name: society, Length: 2688, dtype: int64"
      ]
     },
     "execution_count": 32,
     "metadata": {},
     "output_type": "execute_result"
    }
   ],
   "source": [
    "df[\"society\"].value_counts()"
   ]
  },
  {
   "cell_type": "code",
   "execution_count": 33,
   "id": "0c1602aa",
   "metadata": {},
   "outputs": [],
   "source": [
    "df[\"society\"].fillna(df[\"society\"].mode()[0],inplace=True)"
   ]
  },
  {
   "cell_type": "code",
   "execution_count": 34,
   "id": "f69664b8",
   "metadata": {},
   "outputs": [
    {
     "data": {
      "text/plain": [
       "0"
      ]
     },
     "execution_count": 34,
     "metadata": {},
     "output_type": "execute_result"
    }
   ],
   "source": [
    "df[\"society\"].isna().sum()"
   ]
  },
  {
   "cell_type": "code",
   "execution_count": 37,
   "id": "64ac82b0",
   "metadata": {},
   "outputs": [
    {
     "data": {
      "text/plain": [
       "GrrvaGr    5582\n",
       "PrarePa      76\n",
       "Sryalan      59\n",
       "Prtates      59\n",
       "GMown E      56\n",
       "           ... \n",
       "Amionce       1\n",
       "JaghtDe       1\n",
       "Jauraht       1\n",
       "Brity U       1\n",
       "RSntsAp       1\n",
       "Name: society, Length: 2688, dtype: int64"
      ]
     },
     "execution_count": 37,
     "metadata": {},
     "output_type": "execute_result"
    }
   ],
   "source": [
    "df[\"society\"].value_counts()"
   ]
  },
  {
   "cell_type": "code",
   "execution_count": 38,
   "id": "3d9a79e4",
   "metadata": {},
   "outputs": [],
   "source": [
    "df.drop(\"society\",axis=1,inplace=True)"
   ]
  },
  {
   "cell_type": "markdown",
   "id": "c1c1f49b",
   "metadata": {},
   "source": [
    "# 5.total_sqft"
   ]
  },
  {
   "cell_type": "code",
   "execution_count": 36,
   "id": "42e3add2",
   "metadata": {},
   "outputs": [
    {
     "data": {
      "text/plain": [
       "1200    843\n",
       "1100    221\n",
       "1500    205\n",
       "2400    196\n",
       "600     180\n",
       "       ... \n",
       "3580      1\n",
       "2461      1\n",
       "1437      1\n",
       "2155      1\n",
       "4689      1\n",
       "Name: total_sqft, Length: 2117, dtype: int64"
      ]
     },
     "execution_count": 36,
     "metadata": {},
     "output_type": "execute_result"
    }
   ],
   "source": [
    "df[\"total_sqft\"].value_counts()"
   ]
  },
  {
   "cell_type": "code",
   "execution_count": 42,
   "id": "62e7f209",
   "metadata": {},
   "outputs": [
    {
     "data": {
      "text/plain": [
       "0"
      ]
     },
     "execution_count": 42,
     "metadata": {},
     "output_type": "execute_result"
    }
   ],
   "source": [
    "df[\"total_sqft\"].isna().sum()"
   ]
  },
  {
   "cell_type": "markdown",
   "id": "a80a686f",
   "metadata": {},
   "source": [
    "# 6.bath"
   ]
  },
  {
   "cell_type": "code",
   "execution_count": 55,
   "id": "35c4a509",
   "metadata": {},
   "outputs": [
    {
     "data": {
      "text/plain": [
       "2.0     6906\n",
       "3.0     3284\n",
       "4.0     1225\n",
       "1.0      785\n",
       "5.0      522\n",
       "6.0      272\n",
       "7.0      102\n",
       "8.0       64\n",
       "9.0       43\n",
       "10.0      13\n",
       "12.0       7\n",
       "13.0       3\n",
       "11.0       3\n",
       "16.0       2\n",
       "27.0       1\n",
       "40.0       1\n",
       "15.0       1\n",
       "14.0       1\n",
       "18.0       1\n",
       "Name: bath, dtype: int64"
      ]
     },
     "execution_count": 55,
     "metadata": {},
     "output_type": "execute_result"
    }
   ],
   "source": [
    "df[\"bath\"].value_counts()"
   ]
  },
  {
   "cell_type": "code",
   "execution_count": 56,
   "id": "963cdc81",
   "metadata": {},
   "outputs": [
    {
     "data": {
      "text/plain": [
       "69"
      ]
     },
     "execution_count": 56,
     "metadata": {},
     "output_type": "execute_result"
    }
   ],
   "source": [
    "df[\"bath\"].isna().sum()"
   ]
  },
  {
   "cell_type": "code",
   "execution_count": 57,
   "id": "94950ee6",
   "metadata": {},
   "outputs": [
    {
     "data": {
      "text/plain": [
       "dtype('float64')"
      ]
     },
     "execution_count": 57,
     "metadata": {},
     "output_type": "execute_result"
    }
   ],
   "source": [
    "df[\"bath\"].dtype"
   ]
  },
  {
   "cell_type": "code",
   "execution_count": 58,
   "id": "b4c3b157",
   "metadata": {},
   "outputs": [],
   "source": [
    "df[\"bath\"].fillna(df[\"bath\"].median,inplace=True)"
   ]
  },
  {
   "cell_type": "code",
   "execution_count": 6,
   "id": "eb76374d",
   "metadata": {},
   "outputs": [
    {
     "data": {
      "text/plain": [
       "73"
      ]
     },
     "execution_count": 6,
     "metadata": {},
     "output_type": "execute_result"
    }
   ],
   "source": [
    "df[\"bath\"].isna().sum()"
   ]
  },
  {
   "cell_type": "markdown",
   "id": "44ad1c87",
   "metadata": {},
   "source": [
    " # price"
   ]
  },
  {
   "cell_type": "code",
   "execution_count": 7,
   "id": "fb7392d2",
   "metadata": {},
   "outputs": [
    {
     "data": {
      "text/plain": [
       "75.00     310\n",
       "65.00     302\n",
       "55.00     275\n",
       "60.00     270\n",
       "45.00     240\n",
       "         ... \n",
       "351.00      1\n",
       "54.10       1\n",
       "80.64       1\n",
       "32.73       1\n",
       "488.00      1\n",
       "Name: price, Length: 1994, dtype: int64"
      ]
     },
     "execution_count": 7,
     "metadata": {},
     "output_type": "execute_result"
    }
   ],
   "source": [
    "df[\"price\"].value_counts()"
   ]
  },
  {
   "cell_type": "code",
   "execution_count": 8,
   "id": "dfb1e1b5",
   "metadata": {},
   "outputs": [
    {
     "data": {
      "text/plain": [
       "0"
      ]
     },
     "execution_count": 8,
     "metadata": {},
     "output_type": "execute_result"
    }
   ],
   "source": [
    "df[\"price\"].isna().sum()"
   ]
  },
  {
   "cell_type": "code",
   "execution_count": 9,
   "id": "7dd5467a",
   "metadata": {},
   "outputs": [
    {
     "data": {
      "text/plain": [
       "<Axes: xlabel='price'>"
      ]
     },
     "execution_count": 9,
     "metadata": {},
     "output_type": "execute_result"
    },
    {
     "data": {
      "image/png": "[encoded data removed]",
      "text/plain": [
       "<Figure size 640x480 with 1 Axes>"
      ]
     },
     "metadata": {},
     "output_type": "display_data"
    }
   ],
   "source": [
    "sns.boxplot(x=df[\"price\"])"
   ]
  },
  {
   "cell_type": "code",
   "execution_count": 10,
   "id": "be388f42",
   "metadata": {},
   "outputs": [
    {
     "name": "stdout",
     "output_type": "stream",
     "text": [
      "upper_tail : 225.0\n",
      "lower_tail : -55.0\n"
     ]
    }
   ],
   "source": [
    "q1=df[\"price\"].quantile(0.25)\n",
    "q2=df[\"price\"].quantile(0.50)\n",
    "q3=df[\"price\"].quantile(0.75)\n",
    "iqr=q3-q1\n",
    "upper_tail=q3+(1.5*iqr)\n",
    "lower_tail=q1-(1.5*iqr)\n",
    "print(\"upper_tail :\",upper_tail)\n",
    "print(\"lower_tail :\",lower_tail)"
   ]
  },
  {
   "cell_type": "code",
   "execution_count": 247,
   "id": "77b20c6b",
   "metadata": {},
   "outputs": [
    {
     "data": {
      "text/html": [
       "<div>\n",
       "<style scoped>\n",
       "    .dataframe tbody tr th:only-of-type {\n",
       "        vertical-align: middle;\n",
       "    }\n",
       "\n",
       "    .dataframe tbody tr th {\n",
       "        vertical-align: top;\n",
       "    }\n",
       "\n",
       "    .dataframe thead th {\n",
       "        text-align: right;\n",
       "    }\n",
       "</style>\n",
       "<table border=\"1\" class=\"dataframe\">\n",
       "  <thead>\n",
       "    <tr style=\"text-align: right;\">\n",
       "      <th></th>\n",
       "      <th>price</th>\n",
       "    </tr>\n",
       "  </thead>\n",
       "  <tbody>\n",
       "    <tr>\n",
       "      <th>1</th>\n",
       "      <td>1220.0</td>\n",
       "    </tr>\n",
       "    <tr>\n",
       "      <th>6</th>\n",
       "      <td>1220.0</td>\n",
       "    </tr>\n",
       "    <tr>\n",
       "      <th>7</th>\n",
       "      <td>1220.0</td>\n",
       "    </tr>\n",
       "    <tr>\n",
       "      <th>9</th>\n",
       "      <td>1220.0</td>\n",
       "    </tr>\n",
       "    <tr>\n",
       "      <th>11</th>\n",
       "      <td>1220.0</td>\n",
       "    </tr>\n",
       "    <tr>\n",
       "      <th>...</th>\n",
       "      <td>...</td>\n",
       "    </tr>\n",
       "    <tr>\n",
       "      <th>13306</th>\n",
       "      <td>1220.0</td>\n",
       "    </tr>\n",
       "    <tr>\n",
       "      <th>13311</th>\n",
       "      <td>1220.0</td>\n",
       "    </tr>\n",
       "    <tr>\n",
       "      <th>13315</th>\n",
       "      <td>1220.0</td>\n",
       "    </tr>\n",
       "    <tr>\n",
       "      <th>13316</th>\n",
       "      <td>1220.0</td>\n",
       "    </tr>\n",
       "    <tr>\n",
       "      <th>13318</th>\n",
       "      <td>1220.0</td>\n",
       "    </tr>\n",
       "  </tbody>\n",
       "</table>\n",
       "<p>2275 rows × 1 columns</p>\n",
       "</div>"
      ],
      "text/plain": [
       "        price\n",
       "1      1220.0\n",
       "6      1220.0\n",
       "7      1220.0\n",
       "9      1220.0\n",
       "11     1220.0\n",
       "...       ...\n",
       "13306  1220.0\n",
       "13311  1220.0\n",
       "13315  1220.0\n",
       "13316  1220.0\n",
       "13318  1220.0\n",
       "\n",
       "[2275 rows x 1 columns]"
      ]
     },
     "execution_count": 247,
     "metadata": {},
     "output_type": "execute_result"
    }
   ],
   "source": [
    "df[[\"price\"]].loc[df[\"price\"]>upper_tail]"
   ]
  },
  {
   "cell_type": "code",
   "execution_count": 248,
   "id": "4c399563",
   "metadata": {},
   "outputs": [
    {
     "data": {
      "text/html": [
       "<div>\n",
       "<style scoped>\n",
       "    .dataframe tbody tr th:only-of-type {\n",
       "        vertical-align: middle;\n",
       "    }\n",
       "\n",
       "    .dataframe tbody tr th {\n",
       "        vertical-align: top;\n",
       "    }\n",
       "\n",
       "    .dataframe thead th {\n",
       "        text-align: right;\n",
       "    }\n",
       "</style>\n",
       "<table border=\"1\" class=\"dataframe\">\n",
       "  <thead>\n",
       "    <tr style=\"text-align: right;\">\n",
       "      <th></th>\n",
       "      <th>price</th>\n",
       "    </tr>\n",
       "  </thead>\n",
       "  <tbody>\n",
       "  </tbody>\n",
       "</table>\n",
       "</div>"
      ],
      "text/plain": [
       "Empty DataFrame\n",
       "Columns: [price]\n",
       "Index: []"
      ]
     },
     "execution_count": 248,
     "metadata": {},
     "output_type": "execute_result"
    }
   ],
   "source": [
    "df[[\"price\"]].loc[df[\"price\"]<lower_tail]"
   ]
  },
  {
   "cell_type": "code",
   "execution_count": 11,
   "id": "439d68d5",
   "metadata": {},
   "outputs": [
    {
     "data": {
      "text/plain": [
       "dtype('float64')"
      ]
     },
     "execution_count": 11,
     "metadata": {},
     "output_type": "execute_result"
    }
   ],
   "source": [
    "df[\"price\"].dtype"
   ]
  },
  {
   "cell_type": "markdown",
   "id": "3b37e015",
   "metadata": {},
   "source": [
    "# site_location"
   ]
  },
  {
   "cell_type": "code",
   "execution_count": 12,
   "id": "104c6fb7",
   "metadata": {},
   "outputs": [
    {
     "data": {
      "text/plain": [
       "Alandi Road            139\n",
       "Kalyani Nagar          139\n",
       "Mahatma Gandhi Road    139\n",
       "Lulla Nagar            139\n",
       "Laxmi Road             139\n",
       "                      ... \n",
       "Sadashiv Peth          138\n",
       "Raviwar Peth           138\n",
       "Rasta Peth             138\n",
       "Ghorpadi               138\n",
       "other                    1\n",
       "Name: site_location, Length: 97, dtype: int64"
      ]
     },
     "execution_count": 12,
     "metadata": {},
     "output_type": "execute_result"
    }
   ],
   "source": [
    "df[\"site_location\"].value_counts()"
   ]
  },
  {
   "cell_type": "code",
   "execution_count": 13,
   "id": "3147f1a6",
   "metadata": {},
   "outputs": [
    {
     "data": {
      "text/plain": [
       "1"
      ]
     },
     "execution_count": 13,
     "metadata": {},
     "output_type": "execute_result"
    }
   ],
   "source": [
    "df[\"site_location\"].isna().sum()"
   ]
  },
  {
   "cell_type": "code",
   "execution_count": 14,
   "id": "8cdd3e41",
   "metadata": {},
   "outputs": [],
   "source": [
    "df[\"site_location\"].fillna(df[\"site_location\"].median,inplace=True)"
   ]
  },
  {
   "cell_type": "code",
   "execution_count": 15,
   "id": "2e48dad7",
   "metadata": {},
   "outputs": [
    {
     "data": {
      "text/plain": [
       "0"
      ]
     },
     "execution_count": 15,
     "metadata": {},
     "output_type": "execute_result"
    }
   ],
   "source": [
    "df[\"site_location\"].isna().sum()"
   ]
  },
  {
   "cell_type": "code",
   "execution_count": null,
   "id": "512006bf",
   "metadata": {},
   "outputs": [],
   "source": []
  }
 ],
 "metadata": {
  "kernelspec": {
   "display_name": "Python 3 (ipykernel)",
   "language": "python",
   "name": "python3"
  },
  "language_info": {
   "codemirror_mode": {
    "name": "ipython",
    "version": 3
   },
   "file_extension": ".py",
   "mimetype": "text/x-python",
   "name": "python",
   "nbconvert_exporter": "python",
   "pygments_lexer": "ipython3",
   "version": "3.10.9"
  }
 },
 "nbformat": 4,
 "nbformat_minor": 5
}
